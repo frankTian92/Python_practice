{
 "cells": [
  {
   "cell_type": "code",
   "execution_count": 1,
   "metadata": {},
   "outputs": [],
   "source": [
    "import numpy as np\n",
    "import tensorflow as tf"
   ]
  },
  {
   "cell_type": "markdown",
   "metadata": {},
   "source": [
    "Step1: 对于文本的读取以及预处理"
   ]
  },
  {
   "cell_type": "code",
   "execution_count": 2,
   "metadata": {},
   "outputs": [],
   "source": [
    "## 读取text文档\n",
    "f = open('peotryFromTang.txt',encoding = 'gbk')\n",
    "lines = f.readlines()\n",
    "f.close()"
   ]
  },
  {
   "cell_type": "code",
   "execution_count": 3,
   "metadata": {},
   "outputs": [],
   "source": [
    "## 预处理一：去除字符串中间的'\\n',合并同一首诗的字符串\n",
    "peotry = []\n",
    "item = ''\n",
    "for i in range(len(lines)):\n",
    "    if (lines[i] != '\\n'):\n",
    "        item += lines[i].replace('\\n','')\n",
    "    else:\n",
    "        peotry.append(item)\n",
    "        item = ''\n",
    "\n",
    "peotry.remove('')"
   ]
  },
  {
   "cell_type": "code",
   "execution_count": null,
   "metadata": {},
   "outputs": [],
   "source": []
  },
  {
   "cell_type": "code",
   "execution_count": 9,
   "metadata": {},
   "outputs": [],
   "source": [
    "class Poetry:\n",
    "\n",
    "    def __init__(self):\n",
    "        self.poetry_file = 'peotryFromTang.txt'\n",
    "        self.poetry_list = self._get_poetry()\n",
    "        self.poetry_vectors, self.word_to_int, self.int_to_word = self._gen_poetry_vectors()\n",
    "        self.batch_size = 64\n",
    "        self.chunk_size = len(self.poetry_vectors) // self.batch_size\n",
    "\n",
    "    def _get_poetry(self):\n",
    "        with open(self.poetry_file, \"r\", encoding='gbk') as f:\n",
    "            poetry_list = [line for line in f]\n",
    "        return poetry_list\n",
    "\n",
    "    def _gen_poetry_vectors(self):\n",
    "        words = sorted(set(''.join(self.poetry_list)+' '))  ## 将词提取出来\n",
    "        # 每一个字符分配一个索引 为后续诗词向量化做准备\n",
    "        int_to_word = {i: word for i, word in enumerate(words)}  ## 正向词典\n",
    "        word_to_int = {v: k for k, v in int_to_word.items()}     ## 反向词典\n",
    "        to_int = lambda word: word_to_int.get(word)\n",
    "        poetry_vectors = [list(map(to_int, poetry)) for poetry in self.poetry_list]\n",
    "        return poetry_vectors, word_to_int, int_to_word\n",
    "\n",
    "    def batch(self):\n",
    "        # 生成器\n",
    "        start = 0\n",
    "        end = self.batch_size\n",
    "        for _ in range(self.chunk_size):\n",
    "            batches = self.poetry_vectors[start:end]\n",
    "            # 输入数据 按每块数据中诗句最大长度初始化数组，缺失数据补全\n",
    "            x_batch = np.full((self.batch_size, max(map(len, batches))), self.word_to_int[' '], np.int32)\n",
    "            for row in range(self.batch_size): x_batch[row, :len(batches[row])] = batches[row]\n",
    "            # 标签数据 根据上一个字符预测下一个字符 所以这里y_batch数据应为x_batch数据向后移一位\n",
    "            y_batch = np.copy(x_batch)\n",
    "            y_batch[:, :-1], y_batch[:, -1] = x_batch[:, 1:], x_batch[:, 0]\n",
    "            yield x_batch, y_batch\n",
    "            start += self.batch_size\n",
    "            end += self.batch_size"
   ]
  },
  {
   "cell_type": "code",
   "execution_count": 17,
   "metadata": {},
   "outputs": [
    {
     "name": "stdout",
     "output_type": "stream",
     "text": [
      "[[   0    1    1 ...    1    1    1]\n",
      " [ 689  639   20 ... 2513    0    1]\n",
      " [ 495  310 2440 ...   13    0    1]\n",
      " ...\n",
      " [1293 1198  206 ...   13    0    1]\n",
      " [   0    1    1 ...    1    1    1]\n",
      " [1689 1909  843 ...   13    0    1]]\n",
      "[[ 329  714 2440 ...    1    1    1]\n",
      " [ 374  863  100 ...   13    0    1]\n",
      " [ 776 1436  336 ...    0    1    1]\n",
      " ...\n",
      " [   0    1    1 ...    1    1    1]\n",
      " [1049  992  960 ...   13    0    1]\n",
      " [2192 1131  996 ...   13    0    1]]\n",
      "[[2240 1431  365 ...   13    0    1]\n",
      " [   0    1    1 ...    1    1    1]\n",
      " [1194  610  877 ...    1    1    1]\n",
      " ...\n",
      " [2248  639 1546 ...   13    0    1]\n",
      " [ 641 1071  143 ...    1    1    1]\n",
      " [1543  570 1982 ...    1    1    1]]\n",
      "[[2138 1187 1844 ...   13    0    1]\n",
      " [ 569 1813  895 ...    1    1    1]\n",
      " [   0    1    1 ...    1    1    1]\n",
      " ...\n",
      " [1538 1250 1249 ...   13    0    1]\n",
      " [   0    1    1 ...    1    1    1]\n",
      " [ 483 1043   22 ...   13    0    1]]\n",
      "[[1145  245 1197 ...   13    1    0]\n",
      " [   0    1    1 ...    1    1    1]\n",
      " [1426 1636 2236 ...   13    0    1]\n",
      " ...\n",
      " [   0    1    1 ...    1    1    1]\n",
      " [ 199  410  714 ...   13    0    1]\n",
      " [ 486 2217 1044 ...   13    0    1]]\n",
      "[[   0    1    1 ...    1    1    1]\n",
      " [ 306 1676 1985 ...   13    0    1]\n",
      " [ 176  590   67 ...   13    0    1]\n",
      " ...\n",
      " [  23  365  433 ...   13    0    1]\n",
      " [2269  990  148 ...   13    0    1]\n",
      " [   0    1    1 ...    1    1    1]]\n",
      "[[ 752  641  994 ...   13    0    1]\n",
      " [1376 1358   38 ...   13    0    1]\n",
      " [   0    1    1 ...    1    1    1]\n",
      " ...\n",
      " [1431 1493 1839 ...    1    1    1]\n",
      " [   0    1    1 ...    1    1    1]\n",
      " [2064  170 1078 ...   13    0    1]]\n",
      "[[   0    1    1 ...    1    1    1]\n",
      " [  14 1300   31 ...    1    1    1]\n",
      " [1190 1172  300 ...    1    1    1]\n",
      " ...\n",
      " [1635   71   14 ...   13    0    1]\n",
      " [ 296  714  245 ...   13    0    1]\n",
      " [1474  183  272 ...   13    0    1]]\n",
      "[[ 332  521  331 ...   13    0    1]\n",
      " [2493  616 1759 ...   13    0    1]\n",
      " [  69  714  576 ...   13    0    1]\n",
      " ...\n",
      " [1937 1943 2387 ...   13    0    1]\n",
      " [2402 1195 2118 ... 2322 2513    0]\n",
      " [ 804  825  741 ...    1    1    1]]\n",
      "[[   0    1    1 ...    1    1    1]\n",
      " [2331   36 1494 ... 2513    0    1]\n",
      " [ 739 1839  990 ...   13    0    1]\n",
      " ...\n",
      " [ 245 2269  489 ...   13    0    1]\n",
      " [1206  368  449 ...   13    0    1]\n",
      " [ 356  416  379 ...   13    0    1]]\n",
      "[[ 496 1000 2363 ... 2433   13    0]\n",
      " [1708  306 1043 ... 1572   13    0]\n",
      " [ 644 1466  494 ... 1967   13    0]\n",
      " ...\n",
      " [ 719  968  260 ... 2419   13    0]\n",
      " [ 869  360  429 ... 2245   13    0]\n",
      " [   0    1    1 ...    1    1    1]]\n",
      "[[2147 1083 1027 ... 1133   13    0]\n",
      " [ 982 1819 2376 ...   22   13    0]\n",
      " [ 478  503 2141 ... 1575   13    0]\n",
      " ...\n",
      " [2354  990 1197 ... 2014   13    0]\n",
      " [ 756   89  733 ...  507   13    0]\n",
      " [2372  823 1944 ... 1302   13    0]]\n",
      "[[ 100  205  815 ... 1210   13    0]\n",
      " [1691  838  681 ... 1699   13    0]\n",
      " [ 641 1031 1494 ...  337   13    0]\n",
      " ...\n",
      " [ 429   17   47 ...  692   13    0]\n",
      " [2212   84  430 ...    1    1    1]\n",
      " [   0    1    1 ...    1    1    1]]\n"
     ]
    }
   ],
   "source": [
    "if __name__ == '__main__':\n",
    "    data = Poetry().batch()\n",
    "    for x, y in data:\n",
    "        print(x)"
   ]
  },
  {
   "cell_type": "code",
   "execution_count": 19,
   "metadata": {},
   "outputs": [],
   "source": [
    "with open('peotryFromTang.txt', \"r\", encoding='gbk') as f:\n",
    "    poetry_list = [line for line in f]"
   ]
  },
  {
   "cell_type": "code",
   "execution_count": 32,
   "metadata": {},
   "outputs": [],
   "source": [
    "words = sorted(set(''.join(poetry_list)+' '))"
   ]
  },
  {
   "cell_type": "code",
   "execution_count": 34,
   "metadata": {},
   "outputs": [],
   "source": [
    "int_to_word = {i: word for i, word in enumerate(words)}"
   ]
  },
  {
   "cell_type": "code",
   "execution_count": 36,
   "metadata": {},
   "outputs": [],
   "source": [
    "word_to_int = {v: k for k, v in int_to_word.items()}"
   ]
  },
  {
   "cell_type": "code",
   "execution_count": 40,
   "metadata": {},
   "outputs": [],
   "source": [
    "to_int = lambda word: word_to_int.get(word)"
   ]
  },
  {
   "cell_type": "code",
   "execution_count": 41,
   "metadata": {},
   "outputs": [
    {
     "data": {
      "text/plain": [
       "<function __main__.<lambda>(word)>"
      ]
     },
     "execution_count": 41,
     "metadata": {},
     "output_type": "execute_result"
    }
   ],
   "source": [
    "to_int"
   ]
  },
  {
   "cell_type": "code",
   "execution_count": 43,
   "metadata": {},
   "outputs": [],
   "source": [
    "poetry_vectors = [list(map(to_int, poetry)) for poetry in poetry_list]"
   ]
  },
  {
   "cell_type": "code",
   "execution_count": 47,
   "metadata": {},
   "outputs": [
    {
     "data": {
      "text/plain": [
       "4"
      ]
     },
     "execution_count": 47,
     "metadata": {},
     "output_type": "execute_result"
    }
   ],
   "source": [
    "word_to_int.get('O')"
   ]
  },
  {
   "cell_type": "code",
   "execution_count": null,
   "metadata": {},
   "outputs": [],
   "source": []
  },
  {
   "cell_type": "code",
   "execution_count": null,
   "metadata": {},
   "outputs": [],
   "source": []
  }
 ],
 "metadata": {
  "kernelspec": {
   "display_name": "Python 3",
   "language": "python",
   "name": "python3"
  },
  "language_info": {
   "codemirror_mode": {
    "name": "ipython",
    "version": 3
   },
   "file_extension": ".py",
   "mimetype": "text/x-python",
   "name": "python",
   "nbconvert_exporter": "python",
   "pygments_lexer": "ipython3",
   "version": "3.6.5"
  }
 },
 "nbformat": 4,
 "nbformat_minor": 2
}
