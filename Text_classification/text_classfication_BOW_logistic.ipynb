{
 "cells": [
  {
   "cell_type": "code",
   "execution_count": 17,
   "metadata": {
    "collapsed": true
   },
   "outputs": [],
   "source": [
    "import numpy as np\n",
    "import csv\n",
    "import pandas as pd"
   ]
  },
  {
   "cell_type": "code",
   "execution_count": 18,
   "metadata": {
    "collapsed": false
   },
   "outputs": [],
   "source": [
    "## 读取csv文件\n",
    "data_train_origin = []\n",
    "train = csv.reader(open('C:/Users/Administrator/Desktop/python_practice/Fudan_practice/text_classification_ML/train.tsv', 'rt'))\n",
    "for row in train:\n",
    "    data_train_origin.append(row)\n",
    "\n",
    "data_test_origin = []\n",
    "train = csv.reader(open('C:/Users/Administrator/Desktop/python_practice/Fudan_practice/text_classification_ML/test.tsv', 'rt'))\n",
    "for row in train:\n",
    "    data_test_origin.append(row)"
   ]
  },
  {
   "cell_type": "code",
   "execution_count": 3,
   "metadata": {
    "collapsed": false
   },
   "outputs": [],
   "source": [
    "## 数据的分割\n",
    "data_train = []\n",
    "for item in data_train_origin:\n",
    "    if (len(item)>0):\n",
    "        for j in range(1,len(item)):\n",
    "            item[0]+=item[j]\n",
    "    data_train.append(item[0].split('\\t'))\n",
    "\n",
    "data_test = []\n",
    "for item in data_test_origin:\n",
    "    if (len(item)>0):\n",
    "        for j in range(1,len(item)):\n",
    "            item[0]+=item[j]\n",
    "    data_test.append(item[0].split('\\t'))\n",
    "    "
   ]
  },
  {
   "cell_type": "code",
   "execution_count": 4,
   "metadata": {
    "collapsed": false
   },
   "outputs": [],
   "source": [
    "## 删除标题\n",
    "data_train.remove(data_train[0])\n",
    "data_test.remove(data_test[0])\n",
    "\n"
   ]
  },
  {
   "cell_type": "code",
   "execution_count": 5,
   "metadata": {
    "collapsed": false
   },
   "outputs": [],
   "source": [
    "## 简单预处理\n",
    "for i in range(len(data_train)):\n",
    "    data_train[i][0] = int(data_train[i][0])\n",
    "    data_train[i][1] = int(data_train[i][1])\n",
    "    data_train[i][2] = data_train[i][2].replace('  ',' ')\n",
    "    data_train[i][3] = int(data_train[i][3])\n",
    "\n",
    "for i in range(len(data_test)):\n",
    "    data_test[i][0] = int(data_test[i][0])\n",
    "    data_test[i][1] = int(data_test[i][1])\n",
    "    data_test[i][2] = data_test[i][2].replace('  ',' ')"
   ]
  },
  {
   "cell_type": "code",
   "execution_count": 6,
   "metadata": {
    "collapsed": false
   },
   "outputs": [],
   "source": [
    "## 建立词袋模型来表征句子\n",
    "\n",
    "# 切分单词\n",
    "tokenized_lines = []\n",
    "for item in data_train:\n",
    "    tokenized_lines.append(item[2].split(' '))\n"
   ]
  },
  {
   "cell_type": "code",
   "execution_count": 7,
   "metadata": {
    "collapsed": false
   },
   "outputs": [],
   "source": [
    "# 去除标点，替换大小写\n",
    "punctuation = [\",\", \":\", \";\", \".\", \"'\", '\"', \"’\", \"?\", \"/\", \"-\", \"+\", \"&\", \"(\", \")\"]\n",
    "clean_tokenized = []\n",
    "for item in tokenized_lines:\n",
    "    tokens = []\n",
    "    for token in item:\n",
    "        token = token.lower()\n",
    "        for punc in punctuation:\n",
    "            token = token.replace(punc, \"\")\n",
    "        tokens.append(token)\n",
    "    clean_tokenized.append(tokens)\n"
   ]
  },
  {
   "cell_type": "code",
   "execution_count": 8,
   "metadata": {
    "collapsed": false
   },
   "outputs": [],
   "source": [
    "# 生成原始的词汇集合,剔除了只出现过一次的token\n",
    "unique_tokens = []\n",
    "single_tokens = []\n",
    "for tokens in clean_tokenized:\n",
    "    for token in tokens:\n",
    "        if token not in single_tokens:\n",
    "            single_tokens.append(token)\n",
    "        elif token in single_tokens and token not in unique_tokens:\n",
    "            unique_tokens.append(token)\n",
    "\n"
   ]
  },
  {
   "cell_type": "code",
   "execution_count": null,
   "metadata": {
    "collapsed": false
   },
   "outputs": [],
   "source": [
    "# 将二维的tokens转成一维tokens\n",
    "all_tokens = []\n",
    "for items in clean_tokenized:\n",
    "    for item in items:\n",
    "        all_tokens.append(item.lower())"
   ]
  },
  {
   "cell_type": "code",
   "execution_count": null,
   "metadata": {
    "collapsed": false
   },
   "outputs": [],
   "source": [
    "# 统计每个词出现的频率\n",
    "dic = {}\n",
    "for token in unique_tokens:\n",
    "    dic[token] = all_tokens.count(token)"
   ]
  },
  {
   "cell_type": "code",
   "execution_count": null,
   "metadata": {
    "collapsed": false
   },
   "outputs": [],
   "source": [
    "# 筛选特征在10-100之间\n",
    "tokens = []\n",
    "freq = []\n",
    "for i in range(len(dic)):\n",
    "    if dic.values()[i]>=10 and dic.values()[i]<=100:\n",
    "        tokens.append(dic.keys()[i])\n",
    "        freq.append(dic.values()[i])\n"
   ]
  },
  {
   "cell_type": "code",
   "execution_count": null,
   "metadata": {
    "collapsed": true
   },
   "outputs": [],
   "source": [
    "# 将每个句子按照BOW特征空间进行表征\n",
    "representations =[]\n",
    "for seq in clean_tokenized:\n",
    "    rep = []\n",
    "    for token in tokens:\n",
    "        if token in seq:\n",
    "            rep.append(1)\n",
    "        else:\n",
    "            rep.append(0)\n",
    "    representations.append(rep)"
   ]
  },
  {
   "cell_type": "code",
   "execution_count": null,
   "metadata": {
    "collapsed": false
   },
   "outputs": [],
   "source": [
    "## 定义x，y\n",
    "x = representations\n",
    "y = []\n",
    "for item in data_train:\n",
    "    y.append(item[3])"
   ]
  },
  {
   "cell_type": "code",
   "execution_count": null,
   "metadata": {
    "collapsed": false
   },
   "outputs": [],
   "source": [
    "## y生成one-hot vector\n",
    "classes = np.max(y) + 1\n",
    "y = np.eye(classes)[y]"
   ]
  },
  {
   "cell_type": "code",
   "execution_count": null,
   "metadata": {
    "collapsed": false
   },
   "outputs": [],
   "source": [
    "## 划分集合\n",
    "n_train = int(len(x)*0.8)\n",
    "n_test = int(len(x)*0.1)\n",
    "n_dev = int(len(x) - n_train -n_test)\n",
    "\n",
    "import random\n",
    "index_train = random.sample(range(len(x)),n_train)\n",
    "index_dev = random.sample(list(set(range(len(x)))^set(index_train)) ,n_dev)\n",
    "index_test = list(set(list(set(range(len(x)))^set(index_train)))^set(index_dev)) \n",
    "\n",
    "x_train = []\n",
    "y_train = []\n",
    "for index in index_train:\n",
    "    x_train.append(x[index])\n",
    "    y_train.append(y[index])\n",
    "    \n",
    "x_dev = []\n",
    "y_dev = []\n",
    "for index in index_dev:\n",
    "    x_dev.append(x[index])\n",
    "    y_dev.append(y[index])\n",
    "\n",
    "x_test = []\n",
    "y_test = []\n",
    "for index in index_test:\n",
    "    x_test.append(x[index])\n",
    "    y_test.append(y[index])\n",
    "\n",
    "x_train = np.array(x_train)\n",
    "y_train = np.array(y_train)\n",
    "\n",
    "x_dev = np.array(x_dev)\n",
    "y_dev = np.array(y_dev)\n",
    "\n",
    "x_test = np.array(x_test)\n",
    "y_test = np.array(y_test)"
   ]
  },
  {
   "cell_type": "code",
   "execution_count": null,
   "metadata": {
    "collapsed": false
   },
   "outputs": [],
   "source": [
    "## Logistic model\n",
    "def logit(x_train,y_train,x_dev,y_dev,W,b,alpha,lam):\n",
    "    y_ = 1/(1+np.exp(np.dot(x_train,W)+b))\n",
    "    y__dev = 1/(1+np.exp(np.dot(x_dev,W)+b))\n",
    "    loss = -np.average(y_train*np.log(y_)+(1-y_train)*np.log(1-y_))+lam/2*np.sum(W**2)\n",
    "    loss_dev = -np.average(y_dev*np.log(y__dev)+(1-y_dev)*np.log(1-y__dev))+lam/2*np.sum(W**2)\n",
    "    dloss_dW = -np.dot(x_train.T,(y_train-y_))/len(x_train)+lam*W\n",
    "    dloss_db = np.average(y_train-y_,axis = 0)\n",
    "    W_new = W - alpha*dloss_dW\n",
    "    b_new = b - alpha*dloss_db\n",
    "    return loss,loss_dev, W_new, b_new"
   ]
  },
  {
   "cell_type": "code",
   "execution_count": null,
   "metadata": {
    "collapsed": false
   },
   "outputs": [],
   "source": [
    "## 初始化参数，logistic model可以全0初始化\n",
    "W = np.zeros([np.shape(x_train)[1],np.shape(y_train)[1]])\n",
    "b = np.zeros([1,np.shape(y_train)[1]])"
   ]
  },
  {
   "cell_type": "code",
   "execution_count": null,
   "metadata": {
    "collapsed": false
   },
   "outputs": [],
   "source": [
    "## 批量梯度下降法：\n",
    "def bat_gradesc(x_train,y_train,x_dev,y_dev,W,b,alpha,lam):\n",
    "    losses = []\n",
    "    losses_dev = []\n",
    "    iteration = 0\n",
    "    num = 0\n",
    "    while (num<10 and num < 5000):\n",
    "        loss,loss_dev, W, b = logit(x_train,y_train,x_dev,y_dev,W,b,alpha,lam)\n",
    "        losses.append(loss)\n",
    "        losses_dev.append(loss_dev)\n",
    "        iteration += 1\n",
    "        if  (len(losses_dev)>=2):\n",
    "            if (loss_dev-losses_dev[-2]>0):\n",
    "                num += 1\n",
    "            else:\n",
    "                num = 0\n",
    "        print(str(iteration)+' iteration:')\n",
    "        print(num)\n",
    "    return losses, losses_dev, W, b, iteration"
   ]
  },
  {
   "cell_type": "code",
   "execution_count": null,
   "metadata": {
    "collapsed": true
   },
   "outputs": [],
   "source": [
    "## 随机梯度下降法：\n",
    "def st_gradesc(x_train,y_train,x_dev,y_dev,W,b,alpha,lam):\n",
    "    losses = []\n",
    "    losses_dev = []\n",
    "    iteration = 0\n",
    "    num = 0\n",
    "    while (num<10 and num < 5000):\n",
    "        rand = random.randint(0,len(x_train))\n",
    "        x_rand = np.array(x_train[rand])\n",
    "        y_rand = np.array(y_train[rand])\n",
    "        loss,loss_dev, W, b = logit(x_rand,y_rand,x_dev,y_dev,W,b,alpha,lam)\n",
    "        losses.append(loss)\n",
    "        losses_dev.append(loss_dev)\n",
    "        iteration += 1\n",
    "        if  (len(losses_dev)>=2):\n",
    "            if (loss_dev-losses_dev[-2]>0):\n",
    "                num += 1\n",
    "            else:\n",
    "                num = 0\n",
    "        print(str(iteration)+' iteration:')\n",
    "        print(num)\n",
    "    return losses, losses_dev, W, b, iteration   "
   ]
  },
  {
   "cell_type": "code",
   "execution_count": null,
   "metadata": {
    "collapsed": false
   },
   "outputs": [],
   "source": [
    "## 小批量梯度下降法：\n",
    "def st_gradesc(x_train,y_train,x_dev,y_dev,W,b,alpha,lam):\n",
    "    losses = []\n",
    "    losses_dev = []\n",
    "    iteration = 0\n",
    "    num = 0\n",
    "    while (num<10 and num < 5000):\n",
    "        x_rand = np.array(random.sample(list(x_train),100))\n",
    "        y_rand = np.array(random.sample(list(y_train),100))\n",
    "        loss,loss_dev, W, b = logit(x_rand,y_rand,x_dev,y_dev,W,b,alpha,lam)\n",
    "        losses.append(loss)\n",
    "        losses_dev.append(loss_dev)\n",
    "        iteration += 1\n",
    "        if  (len(losses_dev)>=2):\n",
    "            if (loss_dev-losses_dev[-2]>0):\n",
    "                num += 1\n",
    "            else:\n",
    "                num = 0\n",
    "        print(str(iteration)+' iteration:')\n",
    "        print(num)\n",
    "    return losses, losses_dev, W, b, iteration "
   ]
  },
  {
   "cell_type": "code",
   "execution_count": null,
   "metadata": {
    "collapsed": false
   },
   "outputs": [],
   "source": [
    "## 运行迭代\n",
    "losses, losses_dev, W, b, iteration = bat_gradesc(x_train,y_train,x_dev,y_dev,W,b,0.01,0.2)"
   ]
  },
  {
   "cell_type": "code",
   "execution_count": null,
   "metadata": {
    "collapsed": false
   },
   "outputs": [],
   "source": [
    "## 计算accuracy\n",
    "def evaluate(W,b,lam,x_test,y_test):\n",
    "    y = []\n",
    "    for onehot in y_test:\n",
    "        y.append(np.where(onehot > 0.5)[0][0])\n",
    "    y_pre = y__dev = 1/(1+np.exp(np.dot(x_test,W)+b))\n",
    "    y_ = []\n",
    "    for vector in y_pre:\n",
    "        y_.append(np.where(vector == max(vector))[0][0])\n",
    "    loss = -np.average(y_test*np.log(y_pre)+(1-y_test)*np.log(1-y_pre))+lam/2*np.sum(W**2)\n",
    "    accuracy = float(np.sum(np.array(y)==np.array(y_)))/float(len(y))\n",
    "    precision = []\n",
    "    recall = []\n",
    "    f1 = []\n",
    "    elems = list(set(y))\n",
    "    for elem in elems:\n",
    "        p = 0\n",
    "        r = 0\n",
    "        n = 0\n",
    "        for i in range(len(y)):\n",
    "            if (y[i] == elem):\n",
    "                p += 1\n",
    "            if (y_[i] == elem):\n",
    "                r += 1\n",
    "            if (y[i] == y_[i] and y[i] == elem):\n",
    "                n +=1\n",
    "        if (p != 0):\n",
    "            precision.append(float(n)/float(p))\n",
    "        else:\n",
    "            precision.append(0)\n",
    "        if (r != 0):\n",
    "            recall.append(float(n)/float(r))\n",
    "        else:\n",
    "            recall.append(0)\n",
    "    for j in range(len(precision)):\n",
    "        if (precision[j]!=0 or recall[j] != 0):\n",
    "            f1.append(2*precision[j]*recall[j]/(precision[j]+recall[j]))\n",
    "        else:\n",
    "            f1.append(0)\n",
    "    return loss, accuracy,elems,precision,recall,f1"
   ]
  },
  {
   "cell_type": "code",
   "execution_count": null,
   "metadata": {
    "collapsed": false
   },
   "outputs": [],
   "source": [
    "## 模型评估\n",
    "loss,accuracy,elems,precision,recall,f1 = evaluate(W,b,0.1,x_test,y_test)"
   ]
  },
  {
   "cell_type": "code",
   "execution_count": null,
   "metadata": {
    "collapsed": false
   },
   "outputs": [],
   "source": []
  },
  {
   "cell_type": "code",
   "execution_count": null,
   "metadata": {
    "collapsed": true
   },
   "outputs": [],
   "source": []
  }
 ],
 "metadata": {
  "kernelspec": {
   "display_name": "Python 3",
   "language": "python",
   "name": "python3"
  },
  "language_info": {
   "codemirror_mode": {
    "name": "ipython",
    "version": 3
   },
   "file_extension": ".py",
   "mimetype": "text/x-python",
   "name": "python",
   "nbconvert_exporter": "python",
   "pygments_lexer": "ipython3",
   "version": "3.5.2"
  }
 },
 "nbformat": 4,
 "nbformat_minor": 2
}
